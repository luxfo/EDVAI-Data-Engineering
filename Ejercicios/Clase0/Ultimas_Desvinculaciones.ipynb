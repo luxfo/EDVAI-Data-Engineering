{
 "cells": [
  {
   "cell_type": "code",
   "execution_count": 8,
   "metadata": {},
   "outputs": [
    {
     "ename": "SyntaxError",
     "evalue": "(unicode error) 'unicodeescape' codec can't decode bytes in position 7-8: truncated \\UXXXXXXXX escape (1642407269.py, line 2)",
     "output_type": "error",
     "traceback": [
      "\u001b[0;36m  Cell \u001b[0;32mIn[8], line 2\u001b[0;36m\u001b[0m\n\u001b[0;31m    path = \"Semana1\\Utimas_Desvinculaciones.xlsx\"\u001b[0m\n\u001b[0m                                                 ^\u001b[0m\n\u001b[0;31mSyntaxError\u001b[0m\u001b[0;31m:\u001b[0m (unicode error) 'unicodeescape' codec can't decode bytes in position 7-8: truncated \\UXXXXXXXX escape\n"
     ]
    }
   ],
   "source": [
    "import pandas as pd\n",
    "path = \"Utimas_Desvinculaciones.xlsx\"\n",
    "df_data = pd.read_excel(path, 0)\n",
    "df_rangos = pd.read_excel(path, 1)\n",
    "df_managers = pd.read_excel(path, 2)\n",
    "\n",
    "df_data = df_data.merge(df_rangos, how=\"left\", left_on=\"Rango Salarial\", right_on=\"Rango\", suffixes=('_dt', '_rg'))\n",
    "\n",
    "df_data\n",
    "#df_data.merge(df_managers, how=\"left\", left_on=\"Manager\", right_on=\"Id\", suffixes=('_dt', '_mng'))"
   ]
  }
 ],
 "metadata": {
  "kernelspec": {
   "display_name": "Python 3",
   "language": "python",
   "name": "python3"
  },
  "language_info": {
   "codemirror_mode": {
    "name": "ipython",
    "version": 3
   },
   "file_extension": ".py",
   "mimetype": "text/x-python",
   "name": "python",
   "nbconvert_exporter": "python",
   "pygments_lexer": "ipython3",
   "version": "3.11.4"
  },
  "orig_nbformat": 4
 },
 "nbformat": 4,
 "nbformat_minor": 2
}
